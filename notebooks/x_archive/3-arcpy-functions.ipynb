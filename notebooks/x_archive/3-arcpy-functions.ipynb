{
 "cells": [
  {
   "cell_type": "code",
   "execution_count": 2,
   "metadata": {},
   "outputs": [],
   "source": [
    "'''\n",
    "MS4: ArcPy functions\n",
    "\n",
    "Series of data preparation scripts that are done in the Esri environment. These prepare \n",
    "data that are used in the rest of the analysis. In future iterations as input data layers are updated,\n",
    "these may need to be rerun (one at a time, likely). Once they are run, the updates need to be reflected\n",
    "in make_dataset.py and then the other scripts can be run as usual.\n",
    "\n",
    "Created May 22, 2023 by RBowers\n",
    "\n",
    "'''\n",
    "\n",
    "import arcpy \n",
    "from arcpy.sa import *\n",
    "from arcpy.ia import *\n",
    "from arcpy.da import *\n",
    "import numpy as np\n",
    "import os"
   ]
  },
  {
   "attachments": {},
   "cell_type": "markdown",
   "metadata": {},
   "source": [
    "## Tesselation\n",
    "This script creates a 400 sqm tesselation (hexagon fishnet) that covers each MAPC municipality. Likely won't need to be run again for this analysis. Used in 01-initializing-project.ipynb to create one of the base analysis geographies"
   ]
  },
  {
   "cell_type": "code",
   "execution_count": 49,
   "metadata": {},
   "outputs": [],
   "source": [
    "#create fishnets over each town - takes a while to do all munis! \n",
    "\n",
    "out_gdb = \"K:\\\\DataServices\\\\Projects\\\\Current_Projects\\\\Environment\\\\MS4\\\\Project\\\\MS4_Fishnets.gdb\"\n",
    "in_polys = \"K:\\\\DataServices\\\\Projects\\\\Current_Projects\\\\Environment\\\\MS4\\\\Project\\\\MS4_Tool_Preprocessing.gdb\\\\MAPCTowns\"\n",
    "#arcpy.env.overwriteOutput = True #allow overwriting the output (turn on if you decide to overwrite)\n",
    "\n",
    "# spatial reference\n",
    "arcpy.env.outputCoordinateSystem = arcpy.Describe(in_polys).spatialReference\n",
    "\n",
    "# Loop thru rows of input polygons\n",
    "with arcpy.da.SearchCursor(in_polys, [['SHAPE@', 'municipal']]) as rows:\n",
    "    for row in rows:\n",
    "        ext = row[0].extent\n",
    "        # Create fishnet\n",
    "        out = os.path.join(out_gdb, ('tess_' + row[1]).format(row[1]))\n",
    "        if arcpy.Exists(out):#if you want to replace existing tesselations, remove the if/else and just do the generate tesselation bit with env.overwriteoutput as True\n",
    "            pass\n",
    "        else:\n",
    "            arcpy.management.GenerateTessellation(out, ext,  Size='400 SquareMeters')\n",
    "\n",
    "\n"
   ]
  },
  {
   "cell_type": "code",
   "execution_count": null,
   "metadata": {},
   "outputs": [],
   "source": []
  }
 ],
 "metadata": {
  "kernelspec": {
   "display_name": "Python 3",
   "language": "python",
   "name": "python3"
  },
  "language_info": {
   "codemirror_mode": {
    "name": "ipython",
    "version": 3
   },
   "file_extension": ".py",
   "mimetype": "text/x-python",
   "name": "python",
   "nbconvert_exporter": "python",
   "pygments_lexer": "ipython3",
   "version": "3.9.16"
  },
  "orig_nbformat": 4
 },
 "nbformat": 4,
 "nbformat_minor": 2
}

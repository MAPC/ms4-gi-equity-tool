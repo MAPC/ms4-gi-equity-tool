{
 "cells": [
  {
   "cell_type": "code",
   "execution_count": 1,
   "metadata": {},
   "outputs": [],
   "source": [
    "import os\n",
    "os.environ['USE_PYGEOS'] = '0'\n",
    "import pandas as pd\n",
    "import geopandas as gpd\n",
    "from matplotlib import pyplot as plt\n",
    "import seaborn as sns\n",
    "import numpy as np\n",
    "import statsmodels.api as sm\n",
    "from statsmodels.formula.api import ols \n",
    "from rasterstats import zonal_stats\n",
    "import rasterio\n",
    "import contextily as cx\n",
    "from rasterio.plot import show\n",
    "#import osmnx as ox\n",
    "from affine import Affine\n",
    "import rioxarray as rx\n",
    "from multiprocessing import Pool, cpu_count\n",
    "from shapely.ops import unary_union\n",
    "import numpy as np\n",
    "from osgeo import gdal\n",
    "import matplotlib.pyplot as plt\n",
    "%matplotlib inline\n",
    "import warnings\n",
    "warnings.filterwarnings('ignore')\n",
    "from collections import defaultdict\n",
    "from pathlib import Path"
   ]
  },
  {
   "cell_type": "code",
   "execution_count": 2,
   "metadata": {},
   "outputs": [],
   "source": [
    "\n",
    "#read in municipalities, select the one of interest\n",
    "#municipalities\n",
    "munis_fp = \"K:\\\\DataServices\\\\Datasets\\\\Boundaries\\\\Spatial\\\\mapc_towns_poly.shp\"\n",
    "munis = gpd.read_file(munis_fp)\n",
    "\n",
    "#land use geodatabase location\n",
    "lclu_gdb = \"K:\\\\DataServices\\\\Datasets\\\\Zoning and Land Use\\\\Spatial\\\\lclu_gdb\\\\MA_LCLU2016.gdb\""
   ]
  },
  {
   "cell_type": "code",
   "execution_count": 3,
   "metadata": {},
   "outputs": [
    {
     "name": "stdout",
     "output_type": "stream",
     "text": [
      "Starting on municipality:  Natick\n"
     ]
    }
   ],
   "source": [
    "muni = 'Natick'\n",
    "\n",
    "print('Starting on municipality: ', muni)\n",
    "\n",
    "#make a gdf for muni feature class\n",
    "muni_shp = munis.loc[munis['municipal'] == muni]\n",
    "#read lclu but only for the muni (this makes it small enough to process)\n",
    "lclu = gpd.read_file(lclu_gdb, layer=\"LANDCOVER_LANDUSE_POLY\", mask=muni_shp)\n",
    "    \n",
    "#reproject all to mass mainland\n",
    "mass_mainland_crs = \"EPSG:26986\"\n",
    "lclu = lclu.to_crs(mass_mainland_crs)\n",
    "muni_shp = muni_shp.to_crs(mass_mainland_crs)"
   ]
  },
  {
   "cell_type": "code",
   "execution_count": 5,
   "metadata": {},
   "outputs": [
    {
     "name": "stdout",
     "output_type": "stream",
     "text": [
      "['Deciduous Forest' 'Evergreen Forest' 'Developed Open Space'\n",
      " 'Palustrine Scrub/Shrub Wetland' 'Impervious'\n",
      " 'Palustrine Forested Wetland' 'Palustrine Emergent Wetland' 'Grassland'\n",
      " 'Bare Land' 'Scrub/Shrub' 'Water' 'Palustrine Aquatic Bed' 'Pasture/Hay'\n",
      " 'Cultivated']\n"
     ]
    }
   ],
   "source": [
    "lclu.head()\n",
    "\n",
    "#follow this guidance: https://www.mass.gov/doc/2016-massachusetts-small-ms4-permit-pollutant-loading-export-rates/download\n",
    "\n",
    "\n",
    "print(lclu.COVERNAME.unique())"
   ]
  },
  {
   "cell_type": "code",
   "execution_count": 11,
   "metadata": {},
   "outputs": [
    {
     "name": "stdout",
     "output_type": "stream",
     "text": [
      "['Deciduous Forest' 'Evergreen Forest' 'Developed Open Space'\n",
      " 'Palustrine Scrub/Shrub Wetland' 'Impervious'\n",
      " 'Palustrine Forested Wetland' 'Palustrine Emergent Wetland' 'Grassland'\n",
      " 'Bare Land' 'Scrub/Shrub' 'Water' 'Palustrine Aquatic Bed' 'Pasture/Hay'\n",
      " 'Cultivated']\n",
      "['Residential - single family' 'Tax exempt' 'Right-of-way' 'Unknown'\n",
      " 'Open land' 'Water' 'Residential - multi-family' 'Industrial'\n",
      " 'Commercial' 'Recreation' 'Agriculture' 'Residential - other' 'Forest'\n",
      " 'Mixed use, other' 'Mixed use, primarily residential']\n"
     ]
    }
   ],
   "source": [
    "print(lclu.COVERNAME.unique())\n",
    "print(lclu.USEGENNAME.unique())"
   ]
  },
  {
   "cell_type": "code",
   "execution_count": 22,
   "metadata": {},
   "outputs": [],
   "source": [
    "#calculate area in acreage\n",
    "lclu['acres'] = lclu.area / 43560\n",
    "\n",
    "\n",
    "#distinguish between impervious and pervious\n",
    "impervious = lclu.loc[lclu['COVERNAME'] == 'Impervious']\n",
    "pervious = lclu.loc[lclu['COVERNAME'] != 'Impervious']"
   ]
  },
  {
   "cell_type": "code",
   "execution_count": 30,
   "metadata": {},
   "outputs": [
    {
     "data": {
      "text/html": [
       "<div>\n",
       "<style scoped>\n",
       "    .dataframe tbody tr th:only-of-type {\n",
       "        vertical-align: middle;\n",
       "    }\n",
       "\n",
       "    .dataframe tbody tr th {\n",
       "        vertical-align: top;\n",
       "    }\n",
       "\n",
       "    .dataframe thead th {\n",
       "        text-align: right;\n",
       "    }\n",
       "</style>\n",
       "<table border=\"1\" class=\"dataframe\">\n",
       "  <thead>\n",
       "    <tr style=\"text-align: right;\">\n",
       "      <th></th>\n",
       "      <th>COVERNAME</th>\n",
       "      <th>USEGENNAME</th>\n",
       "      <th>PLER</th>\n",
       "      <th>acres</th>\n",
       "    </tr>\n",
       "  </thead>\n",
       "  <tbody>\n",
       "    <tr>\n",
       "      <th>0</th>\n",
       "      <td>Deciduous Forest</td>\n",
       "      <td>Residential - single family</td>\n",
       "      <td>0.13</td>\n",
       "      <td>7.035807e-03</td>\n",
       "    </tr>\n",
       "    <tr>\n",
       "      <th>1</th>\n",
       "      <td>Deciduous Forest</td>\n",
       "      <td>Tax exempt</td>\n",
       "      <td>0.13</td>\n",
       "      <td>1.304229e-03</td>\n",
       "    </tr>\n",
       "    <tr>\n",
       "      <th>2</th>\n",
       "      <td>Evergreen Forest</td>\n",
       "      <td>Right-of-way</td>\n",
       "      <td>0.13</td>\n",
       "      <td>2.035803e-03</td>\n",
       "    </tr>\n",
       "    <tr>\n",
       "      <th>3</th>\n",
       "      <td>Evergreen Forest</td>\n",
       "      <td>Tax exempt</td>\n",
       "      <td>0.13</td>\n",
       "      <td>1.881605e-03</td>\n",
       "    </tr>\n",
       "    <tr>\n",
       "      <th>4</th>\n",
       "      <td>Evergreen Forest</td>\n",
       "      <td>Unknown</td>\n",
       "      <td>0.13</td>\n",
       "      <td>8.930212e-05</td>\n",
       "    </tr>\n",
       "    <tr>\n",
       "      <th>...</th>\n",
       "      <td>...</td>\n",
       "      <td>...</td>\n",
       "      <td>...</td>\n",
       "      <td>...</td>\n",
       "    </tr>\n",
       "    <tr>\n",
       "      <th>92639</th>\n",
       "      <td>Developed Open Space</td>\n",
       "      <td>Residential - single family</td>\n",
       "      <td>NaN</td>\n",
       "      <td>1.619255e-02</td>\n",
       "    </tr>\n",
       "    <tr>\n",
       "      <th>92640</th>\n",
       "      <td>Palustrine Forested Wetland</td>\n",
       "      <td>Residential - single family</td>\n",
       "      <td>NaN</td>\n",
       "      <td>1.361576e-03</td>\n",
       "    </tr>\n",
       "    <tr>\n",
       "      <th>92641</th>\n",
       "      <td>Impervious</td>\n",
       "      <td>Residential - single family</td>\n",
       "      <td>1.96</td>\n",
       "      <td>2.352911e-03</td>\n",
       "    </tr>\n",
       "    <tr>\n",
       "      <th>92642</th>\n",
       "      <td>Deciduous Forest</td>\n",
       "      <td>Right-of-way</td>\n",
       "      <td>0.13</td>\n",
       "      <td>1.937693e-03</td>\n",
       "    </tr>\n",
       "    <tr>\n",
       "      <th>92643</th>\n",
       "      <td>Developed Open Space</td>\n",
       "      <td>Unknown</td>\n",
       "      <td>NaN</td>\n",
       "      <td>6.007030e-07</td>\n",
       "    </tr>\n",
       "  </tbody>\n",
       "</table>\n",
       "<p>92644 rows × 4 columns</p>\n",
       "</div>"
      ],
      "text/plain": [
       "                         COVERNAME                   USEGENNAME  PLER  \\\n",
       "0                 Deciduous Forest  Residential - single family  0.13   \n",
       "1                 Deciduous Forest                   Tax exempt  0.13   \n",
       "2                 Evergreen Forest                 Right-of-way  0.13   \n",
       "3                 Evergreen Forest                   Tax exempt  0.13   \n",
       "4                 Evergreen Forest                      Unknown  0.13   \n",
       "...                            ...                          ...   ...   \n",
       "92639         Developed Open Space  Residential - single family   NaN   \n",
       "92640  Palustrine Forested Wetland  Residential - single family   NaN   \n",
       "92641                   Impervious  Residential - single family  1.96   \n",
       "92642             Deciduous Forest                 Right-of-way  0.13   \n",
       "92643         Developed Open Space                      Unknown   NaN   \n",
       "\n",
       "              acres  \n",
       "0      7.035807e-03  \n",
       "1      1.304229e-03  \n",
       "2      2.035803e-03  \n",
       "3      1.881605e-03  \n",
       "4      8.930212e-05  \n",
       "...             ...  \n",
       "92639  1.619255e-02  \n",
       "92640  1.361576e-03  \n",
       "92641  2.352911e-03  \n",
       "92642  1.937693e-03  \n",
       "92643  6.007030e-07  \n",
       "\n",
       "[92644 rows x 4 columns]"
      ]
     },
     "execution_count": 30,
     "metadata": {},
     "output_type": "execute_result"
    }
   ],
   "source": [
    "category_1_vals = ['Mixed use, primarily residential', 'Residential - multi-family']\n",
    "category_2_vals = ['Commercial', 'Industrial', 'Tax exempt', 'Mixed use, other', 'Mixed use, primarily commercial'] \n",
    "category_3_vals = ['Right-of-way']\n",
    "category_4_vals = ['Forest']\n",
    "category_5_vals = ['Agriculture']\n",
    "category_6_vals = ['Unknown', 'Open land', 'Recreation']\n",
    "category_7_vals = ['Residential - other', 'Residential - single family']\n",
    "\n",
    "cover_1_vals = ['Deciduous Forest', 'Evergreen Forest', 'Scrub/Shrub']\n",
    "cover_2_vals = ['Developed Open Space', 'Grassland', 'Palustrine Forested Wetland', \n",
    "                'Palustrine Scrub/Shrub Wetland', 'Palustrine Emergent Wetland',\n",
    "                'Estuarine Forested Wetland', 'Estuarine Scrub/Shrub Wetland', 'Estuarine Emergent Wetland'\n",
    "                ]\n",
    "cover_3_vals = ['Cultivated', 'Pasture/Hay']\n",
    "\n",
    "PLER_rule = [\n",
    "    (lclu['COVERNAME'] == 'Impervious') & lclu['USEGENNAME'].isin(category_1_vals),\n",
    "    (lclu['COVERNAME'] == 'Impervious') & lclu['USEGENNAME'].isin(category_2_vals),\n",
    "    (lclu['COVERNAME'] == 'Impervious') & lclu['USEGENNAME'].isin(category_3_vals),\n",
    "    (lclu['COVERNAME'] == 'Impervious') & lclu['USEGENNAME'].isin(category_4_vals),\n",
    "    (lclu['COVERNAME'] == 'Impervious') & lclu['USEGENNAME'].isin(category_5_vals),\n",
    "    (lclu['COVERNAME'] == 'Impervious') & lclu['USEGENNAME'].isin(category_6_vals),\n",
    "    (lclu['COVERNAME'] == 'Impervious') & lclu['USEGENNAME'].isin(category_7_vals),\n",
    "    (lclu['COVERNAME'] != 'Impervious') &  lclu['COVERNAME'].isin(cover_1_vals),\n",
    "    (lclu['COVERNAME'] != 'Impervious') & (lclu['USEGENNAME'] == 'Forest') & lclu['COVERNAME'].isin(cover_2_vals),\n",
    "    (lclu['COVERNAME'] != 'Impervious') &  lclu['COVERNAME'].isin(cover_3_vals),\n",
    "    (lclu['COVERNAME'] != 'Impervious') & (lclu['COVERNAME'] == 'Developed Open Space') & (lclu['USEGENNAME']== 'Agriculture'),\n",
    "    (lclu['COVERNAME'] != 'Impervious') & (lclu['COVERNAME'] == 'Grassland') & (lclu['USEGENNAME']== 'Agriculture'),\n",
    "    (lclu['COVERNAME'] != 'Impervious') & (lclu['COVERNAME'] == 'Pasture/Hay') & (lclu['USEGENNAME']== 'Forest')\n",
    "]\n",
    "\n",
    "choices = [2.32, 1.78, 1.95, 1.52, 1.52, 1.52, 1.96, 0.13, 0.13, 0.45, 0.45, 0.45, 0.45]\n",
    "\n",
    "lclu['PLER'] = np.select(PLER_rule, choices, default=np.nan)\n",
    "lclu[['COVERNAME', 'USEGENNAME', 'PLER', 'acres']]\n",
    "\n"
   ]
  },
  {
   "cell_type": "code",
   "execution_count": null,
   "metadata": {},
   "outputs": [],
   "source": [
    "cover_4_vals = ['Developed Open Space', 'Grassland', 'Palustrine Forested Wetland', 'Palustrine Scrub/Shrub Wetland',\n",
    "                ]"
   ]
  },
  {
   "cell_type": "code",
   "execution_count": null,
   "metadata": {},
   "outputs": [],
   "source": [
    "['Deciduous Forest' 'Evergreen Forest' 'Developed Open Space'\n",
    " 'Palustrine Scrub/Shrub Wetland' 'Impervious'\n",
    " 'Palustrine Forested Wetland' 'Palustrine Emergent Wetland' 'Grassland'\n",
    " 'Bare Land' 'Scrub/Shrub' 'Water' 'Palustrine Aquatic Bed' 'Pasture/Hay'\n",
    " 'Cultivated']\n",
    "['Residential - single family' 'Tax exempt' 'Right-of-way' 'Unknown'\n",
    " 'Open land' 'Water' 'Residential - multi-family' 'Industrial'\n",
    " 'Commercial' 'Recreation' 'Agriculture' 'Residential - other' 'Forest'\n",
    " 'Mixed use, other' 'Mixed use, primarily residential']"
   ]
  }
 ],
 "metadata": {
  "kernelspec": {
   "display_name": "DS-geospatial",
   "language": "python",
   "name": "python3"
  },
  "language_info": {
   "codemirror_mode": {
    "name": "ipython",
    "version": 3
   },
   "file_extension": ".py",
   "mimetype": "text/x-python",
   "name": "python",
   "nbconvert_exporter": "python",
   "pygments_lexer": "ipython3",
   "version": "3.10.8"
  },
  "orig_nbformat": 4
 },
 "nbformat": 4,
 "nbformat_minor": 2
}

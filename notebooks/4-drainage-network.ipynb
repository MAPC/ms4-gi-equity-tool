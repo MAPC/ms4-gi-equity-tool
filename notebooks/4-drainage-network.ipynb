{
 "cells": [
  {
   "cell_type": "code",
   "execution_count": 1,
   "metadata": {},
   "outputs": [],
   "source": [
    "import geopandas as gpd\n",
    "import stormcatchments as sc\n",
    "import fiona\n",
    "import matplotlib.pyplot as plt\n",
    "import contextily as cx\n",
    "import numpy as np\n",
    "import pandas as pd\n",
    "import geopandas as gpd\n",
    "import pandas as pd\n",
    "import matplotlib.pyplot as plt\n",
    "import networkx as nx\n",
    "from shapely.geometry import box, LineString, Point,MultiPoint\n",
    "import os\n",
    "import sys\n",
    "import fiona\n",
    "from scipy.spatial import cKDTree\n",
    "from shapely import wkt\n",
    "import time\n",
    "from rtree import index\n",
    "sys.path.append(os.path.realpath('..'))\n",
    "\n",
    "\n",
    "#see all columns in tables\n",
    "pd.set_option('display.max_columns', None)"
   ]
  },
  {
   "cell_type": "code",
   "execution_count": 2,
   "metadata": {},
   "outputs": [],
   "source": [
    "muni = 'Natick'\n",
    "\n",
    "\n",
    "#read in municipalities, select the one of interest\n",
    "#municipalities\n",
    "munis_fp = \"K:\\\\\\DataServices\\\\Datasets\\\\Boundaries\\\\Spatial\\\\mapc_towns_poly.shp\"\n",
    "munis = gpd.read_file(munis_fp)\n",
    "\n",
    "\n",
    "#select just the muni \n",
    "muni_shp = munis.loc[munis['municipal'] == muni]"
   ]
  },
  {
   "cell_type": "code",
   "execution_count": 3,
   "metadata": {},
   "outputs": [],
   "source": [
    "drainage_network_path  = \"K:\\\\DataServices\\\\Projects\\\\Current_Projects\\\\Environment\\\\MS4\\\\Data\\\\Spatial\\\\Drainage_Network\"\n"
   ]
  },
  {
   "cell_type": "code",
   "execution_count": 118,
   "metadata": {},
   "outputs": [],
   "source": [
    "import rasterio \n",
    "from rasterio.mask import mask\n",
    "\n",
    "inRas = 'I:\\\\Elevation\\\\Lidar\\\\2023_MassGIS\\\\LiDAR_DEM_INT_16bit.tiff'\n",
    "outRas = 'I:\\\\Elevation\\\\Lidar\\\\2023_MassGIS\\\\' + muni + '_LiDAR_DEM_INT_16bit.tiff'\n",
    "muni_shp_buffer = muni_shp.buffer(1000)\n",
    "\n",
    "#clip the dem to the muni, save to I drive folder\n",
    "with rasterio.open(inRas) as src:\n",
    "    #update crs\n",
    "    src.meta.update({\n",
    "        'crs': muni_shp.crs\n",
    "        })\n",
    "    out_image, out_transform= mask(src,muni_shp_buffer.geometry,crop=True)\n",
    "    out_meta=src.meta.copy() # copy the metadata of the source DEM\n",
    "\n",
    "    \n",
    "out_meta.update({\n",
    "    \"driver\":\"Gtiff\",\n",
    "    \"height\":out_image.shape[1], # height starts with shape[1]\n",
    "    \"width\":out_image.shape[2], # width starts with shape[2]\n",
    "    \"transform\":out_transform\n",
    "})\n",
    "              \n",
    "with rasterio.open(outRas,'w',**out_meta) as dst:\n",
    "    dst.write(out_image)"
   ]
  },
  {
   "cell_type": "code",
   "execution_count": 4,
   "metadata": {},
   "outputs": [
    {
     "name": "stderr",
     "output_type": "stream",
     "text": [
      "C:\\Users\\rbowers\\AppData\\Local\\Temp\\ipykernel_12112\\886053387.py:12: FutureWarning: Currently, index_parts defaults to True, but in the future, it will default to False to be consistent with Pandas. Use `index_parts=True` to keep the current behavior and True/False to silence the warning.\n",
      "  natick_lines = natick_lines.explode()\n"
     ]
    }
   ],
   "source": [
    "#natick\n",
    "natick_path = drainage_network_path + '\\\\Natick Stormwater\\\\mrged.gdb'\n",
    "natick_pts = gpd.read_file (natick_path, layer = 'd_nodes')\n",
    "natick_lines = gpd.read_file (natick_path, layer = 'd_pipes')\n",
    "\n",
    "#reproject all to mass mainland\n",
    "mass_mainland_crs = \"EPSG:26986\"\n",
    "natick_pts = natick_pts.to_crs(mass_mainland_crs).reset_index()\n",
    "natick_lines = natick_lines.to_crs(mass_mainland_crs).reset_index()\n",
    "\n",
    "#explode to get rid of multigeometry\n",
    "natick_lines = natick_lines.explode()\n"
   ]
  },
  {
   "cell_type": "code",
   "execution_count": 5,
   "metadata": {},
   "outputs": [],
   "source": [
    "#define 'sources' and 'sinks' \n",
    "#sinks corresponds to catch basins and culvert inlets\n",
    "#sources corresponds to outfalls and culvert outlets\n",
    "source_types = ['CB', 'CI']\n",
    "sink_types = ['OF', 'CO']\n",
    "\n",
    "#add boolean 'IS_SOURCE' and 'IS_SINK' field (for storm catchments package)\n",
    "natick_pts['IS_SOURCE'] = np.where(natick_pts['TYPE'].isin(source_types), True, False)\n",
    "natick_pts['IS_SINK'] = np.where(natick_pts['TYPE'].isin(sink_types), True, False)\n",
    "\n",
    "#these had some funny indeces issues that we're fixing\n",
    "natick_pts = natick_pts.reset_index(drop=True)\n",
    "natick_lines = natick_lines.reset_index(drop=True)\n",
    "\n",
    "#run storm catchments network \n",
    "net = sc.Network(natick_lines, \n",
    "                 natick_pts, \n",
    "                 coord_decimals=2)\n"
   ]
  },
  {
   "cell_type": "code",
   "execution_count": 18,
   "metadata": {},
   "outputs": [
    {
     "name": "stdout",
     "output_type": "stream",
     "text": [
      "The autoreload extension is already loaded. To reload it, use:\n",
      "  %reload_ext autoreload\n"
     ]
    }
   ],
   "source": [
    "from src.features.storm_catch import *\n",
    "\n",
    "net = snap_points(net, 30)\n",
    "net.resolve_directions(method='from_sources', verbose=True)"
   ]
  },
  {
   "cell_type": "code",
   "execution_count": 21,
   "metadata": {},
   "outputs": [
    {
     "name": "stderr",
     "output_type": "stream",
     "text": [
      "c:\\Users\\rbowers\\Anaconda3\\envs\\ms4_env\\lib\\site-packages\\pysheds\\io.py:142: UserWarning: No `nodata` value detected. Defaulting to 0.\n",
      "  warnings.warn('No `nodata` value detected. Defaulting to 0.')\n",
      "c:\\Users\\rbowers\\Anaconda3\\envs\\ms4_env\\lib\\site-packages\\pysheds\\io.py:142: UserWarning: No `nodata` value detected. Defaulting to 0.\n",
      "  warnings.warn('No `nodata` value detected. Defaulting to 0.')\n"
     ]
    }
   ],
   "source": [
    "#preprocess the dem and initialize the \"Delineate\" object \n",
    "grid, fdir, acc = sc.terrain.preprocess_dem(outRas)\n",
    "grid_epsg = 26986\n",
    "delin = sc.Delineate(net, grid, fdir, acc, grid_epsg)"
   ]
  },
  {
   "cell_type": "code",
   "execution_count": 122,
   "metadata": {},
   "outputs": [
    {
     "name": "stdout",
     "output_type": "stream",
     "text": [
      "4\n",
      "5\n",
      "11\n",
      "5036\n",
      "5037\n",
      "5038\n",
      "5039\n",
      "5040\n",
      "5041\n",
      "5042\n",
      "5043\n",
      "5044\n",
      "5045\n",
      "5046\n",
      "5049\n",
      "5052\n",
      "5053\n",
      "5054\n",
      "5058\n",
      "5059\n",
      "5061\n",
      "5065\n",
      "5066\n",
      "5067\n",
      "5068\n",
      "5069\n",
      "5070\n",
      "5071\n",
      "5072\n",
      "5073\n",
      "5074\n",
      "5075\n",
      "5076\n",
      "5077\n",
      "5078\n",
      "5080\n",
      "5083\n",
      "5084\n",
      "5085\n",
      "5086\n",
      "5087\n",
      "5088\n",
      "5090\n",
      "5091\n",
      "5092\n",
      "5093\n",
      "5096\n",
      "5098\n",
      "5099\n",
      "5100\n",
      "5101\n",
      "5103\n",
      "5104\n",
      "5105\n",
      "5107\n",
      "5108\n",
      "5109\n",
      "5110\n",
      "5111\n",
      "5112\n",
      "5113\n",
      "5114\n",
      "5115\n",
      "5116\n",
      "5117\n",
      "5118\n",
      "5119\n",
      "5120\n",
      "5121\n",
      "5122\n",
      "5123\n",
      "5124\n",
      "5125\n",
      "5126\n",
      "5127\n",
      "5129\n",
      "5130\n",
      "5131\n",
      "5132\n",
      "5138\n"
     ]
    },
    {
     "ename": "MemoryError",
     "evalue": "Allocation failed (probably too large).",
     "output_type": "error",
     "traceback": [
      "\u001b[1;31m---------------------------------------------------------------------------\u001b[0m",
      "\u001b[1;31mMemoryError\u001b[0m                               Traceback (most recent call last)",
      "Cell \u001b[1;32mIn[122], line 13\u001b[0m\n\u001b[0;32m     11\u001b[0m coords \u001b[39m=\u001b[39m (row\u001b[39m.\u001b[39mgeometry\u001b[39m.\u001b[39mx, row\u001b[39m.\u001b[39mgeometry\u001b[39m.\u001b[39my)\n\u001b[0;32m     12\u001b[0m \u001b[39mprint\u001b[39m(row\u001b[39m.\u001b[39mindex)\n\u001b[1;32m---> 13\u001b[0m catchment \u001b[39m=\u001b[39m sc\u001b[39m.\u001b[39;49mdelineate\u001b[39m.\u001b[39;49mget_catchment(coords, \n\u001b[0;32m     14\u001b[0m                                        grid, \n\u001b[0;32m     15\u001b[0m                                        fdir, \n\u001b[0;32m     16\u001b[0m                                        acc, \n\u001b[0;32m     17\u001b[0m                                        grid_epsg, \n\u001b[0;32m     18\u001b[0m                                        acc_thresh\u001b[39m=\u001b[39;49m\u001b[39m1000\u001b[39;49m)\n\u001b[0;32m     19\u001b[0m catchment[\u001b[39m'\u001b[39m\u001b[39mindex\u001b[39m\u001b[39m'\u001b[39m] \u001b[39m=\u001b[39m row\u001b[39m.\u001b[39mindex\n\u001b[0;32m     20\u001b[0m catchment[\u001b[39m'\u001b[39m\u001b[39mTYPE\u001b[39m\u001b[39m'\u001b[39m] \u001b[39m=\u001b[39m row\u001b[39m.\u001b[39mTYPE\n",
      "File \u001b[1;32mc:\\Users\\rbowers\\Anaconda3\\envs\\ms4_env\\lib\\site-packages\\stormcatchments\\delineate.py:50\u001b[0m, in \u001b[0;36mget_catchment\u001b[1;34m(pour_pt, grid, fdir, acc, grid_epsg, acc_thresh)\u001b[0m\n\u001b[0;32m     48\u001b[0m x, y \u001b[39m=\u001b[39m pour_pt\n\u001b[0;32m     49\u001b[0m x_snap, y_snap \u001b[39m=\u001b[39m grid\u001b[39m.\u001b[39msnap_to_mask(acc \u001b[39m>\u001b[39m acc_thresh, (x, y))\n\u001b[1;32m---> 50\u001b[0m catch \u001b[39m=\u001b[39m grid\u001b[39m.\u001b[39;49mcatchment(x\u001b[39m=\u001b[39;49mx_snap, y\u001b[39m=\u001b[39;49my_snap, fdir\u001b[39m=\u001b[39;49mfdir)\n\u001b[0;32m     51\u001b[0m grid\u001b[39m.\u001b[39mclip_to(catch)\n\u001b[0;32m     52\u001b[0m catch_view \u001b[39m=\u001b[39m grid\u001b[39m.\u001b[39mview(catch, dtype\u001b[39m=\u001b[39mnp\u001b[39m.\u001b[39muint8)\n",
      "File \u001b[1;32mc:\\Users\\rbowers\\Anaconda3\\envs\\ms4_env\\lib\\site-packages\\pysheds\\sgrid.py:737\u001b[0m, in \u001b[0;36msGrid.catchment\u001b[1;34m(self, x, y, fdir, pour_value, dirmap, nodata_out, xytype, routing, snap, algorithm, **kwargs)\u001b[0m\n\u001b[0;32m    734\u001b[0m         \u001b[39mraise\u001b[39;00m \u001b[39mValueError\u001b[39;00m(\u001b[39m'\u001b[39m\u001b[39mPour point (\u001b[39m\u001b[39m{}\u001b[39;00m\u001b[39m, \u001b[39m\u001b[39m{}\u001b[39;00m\u001b[39m) is out of bounds for dataset with shape \u001b[39m\u001b[39m{}\u001b[39;00m\u001b[39m.\u001b[39m\u001b[39m'\u001b[39m\n\u001b[0;32m    735\u001b[0m                         \u001b[39m.\u001b[39mformat(x, y, fdir\u001b[39m.\u001b[39mshape))\n\u001b[0;32m    736\u001b[0m \u001b[39mif\u001b[39;00m routing\u001b[39m.\u001b[39mlower() \u001b[39m==\u001b[39m \u001b[39m'\u001b[39m\u001b[39md8\u001b[39m\u001b[39m'\u001b[39m:\n\u001b[1;32m--> 737\u001b[0m     catch \u001b[39m=\u001b[39m \u001b[39mself\u001b[39;49m\u001b[39m.\u001b[39;49m_d8_catchment(x, y, fdir\u001b[39m=\u001b[39;49mfdir, pour_value\u001b[39m=\u001b[39;49mpour_value, dirmap\u001b[39m=\u001b[39;49mdirmap,\n\u001b[0;32m    738\u001b[0m                                nodata_out\u001b[39m=\u001b[39;49mnodata_out, xytype\u001b[39m=\u001b[39;49mxytype, snap\u001b[39m=\u001b[39;49msnap,\n\u001b[0;32m    739\u001b[0m                                algorithm\u001b[39m=\u001b[39;49malgorithm)\n\u001b[0;32m    740\u001b[0m \u001b[39melif\u001b[39;00m routing\u001b[39m.\u001b[39mlower() \u001b[39m==\u001b[39m \u001b[39m'\u001b[39m\u001b[39mdinf\u001b[39m\u001b[39m'\u001b[39m:\n\u001b[0;32m    741\u001b[0m     catch \u001b[39m=\u001b[39m \u001b[39mself\u001b[39m\u001b[39m.\u001b[39m_dinf_catchment(x, y, fdir\u001b[39m=\u001b[39mfdir, pour_value\u001b[39m=\u001b[39mpour_value, dirmap\u001b[39m=\u001b[39mdirmap,\n\u001b[0;32m    742\u001b[0m                                  nodata_out\u001b[39m=\u001b[39mnodata_out, xytype\u001b[39m=\u001b[39mxytype, snap\u001b[39m=\u001b[39msnap,\n\u001b[0;32m    743\u001b[0m                                  algorithm\u001b[39m=\u001b[39malgorithm)\n",
      "File \u001b[1;32mc:\\Users\\rbowers\\Anaconda3\\envs\\ms4_env\\lib\\site-packages\\pysheds\\sgrid.py:761\u001b[0m, in \u001b[0;36msGrid._d8_catchment\u001b[1;34m(self, x, y, fdir, pour_value, dirmap, nodata_out, xytype, snap, algorithm)\u001b[0m\n\u001b[0;32m    759\u001b[0m \u001b[39m# Delineate the catchment\u001b[39;00m\n\u001b[0;32m    760\u001b[0m \u001b[39mif\u001b[39;00m algorithm\u001b[39m.\u001b[39mlower() \u001b[39m==\u001b[39m \u001b[39m'\u001b[39m\u001b[39miterative\u001b[39m\u001b[39m'\u001b[39m:\n\u001b[1;32m--> 761\u001b[0m     catch \u001b[39m=\u001b[39m _self\u001b[39m.\u001b[39;49m_d8_catchment_iter_numba(fdir, (y, x), dirmap)\n\u001b[0;32m    762\u001b[0m \u001b[39melif\u001b[39;00m algorithm\u001b[39m.\u001b[39mlower() \u001b[39m==\u001b[39m \u001b[39m'\u001b[39m\u001b[39mrecursive\u001b[39m\u001b[39m'\u001b[39m:\n\u001b[0;32m    763\u001b[0m     catch \u001b[39m=\u001b[39m _self\u001b[39m.\u001b[39m_d8_catchment_recur_numba(fdir, (y, x), dirmap)\n",
      "\u001b[1;31mMemoryError\u001b[0m: Allocation failed (probably too large)."
     ]
    }
   ],
   "source": [
    "natick_source_points = natick_pts.loc[natick_pts['IS_SOURCE'] == True]\n",
    "natick_sink_points = natick_pts.loc[natick_pts['IS_SINK'] == True]\n",
    "\n",
    "\n",
    "dest = gpd.GeoDataFrame(columns=['index', 'TYPE', 'geometry'], \n",
    "                        geometry='geometry', \n",
    "                        crs='EPSG:26986')\n",
    "\n",
    "\n",
    "for row in natick_sink_points.itertuples(): #looping over pts\n",
    "    coords = (row.geometry.x, row.geometry.y)\n",
    "    print(row.index)\n",
    "    catchment = sc.delineate.get_catchment(coords, \n",
    "                                           grid, \n",
    "                                           fdir, \n",
    "                                           acc, \n",
    "                                           grid_epsg, \n",
    "                                           acc_thresh=1000)\n",
    "    catchment['index'] = row.index\n",
    "    catchment['TYPE'] = row.TYPE\n",
    "    dest = pd.concat([dest, catchment])\n",
    "\n",
    "dest.head()"
   ]
  },
  {
   "cell_type": "code",
   "execution_count": 121,
   "metadata": {},
   "outputs": [
    {
     "data": {
      "text/html": [
       "<div>\n",
       "<style scoped>\n",
       "    .dataframe tbody tr th:only-of-type {\n",
       "        vertical-align: middle;\n",
       "    }\n",
       "\n",
       "    .dataframe tbody tr th {\n",
       "        vertical-align: top;\n",
       "    }\n",
       "\n",
       "    .dataframe thead th {\n",
       "        text-align: right;\n",
       "    }\n",
       "</style>\n",
       "<table border=\"1\" class=\"dataframe\">\n",
       "  <thead>\n",
       "    <tr style=\"text-align: right;\">\n",
       "      <th></th>\n",
       "      <th>index</th>\n",
       "      <th>TYPE</th>\n",
       "      <th>geometry</th>\n",
       "    </tr>\n",
       "  </thead>\n",
       "  <tbody>\n",
       "  </tbody>\n",
       "</table>\n",
       "</div>"
      ],
      "text/plain": [
       "Empty GeoDataFrame\n",
       "Columns: [index, TYPE, geometry]\n",
       "Index: []"
      ]
     },
     "execution_count": 121,
     "metadata": {},
     "output_type": "execute_result"
    }
   ],
   "source": [
    "#export to a folder with the name of the town\n",
    "#or do we first calculate the nutrient load of each catchment area? \n",
    "dest.head()"
   ]
  }
 ],
 "metadata": {
  "kernelspec": {
   "display_name": "ms4_env",
   "language": "python",
   "name": "python3"
  },
  "language_info": {
   "codemirror_mode": {
    "name": "ipython",
    "version": 3
   },
   "file_extension": ".py",
   "mimetype": "text/x-python",
   "name": "python",
   "nbconvert_exporter": "python",
   "pygments_lexer": "ipython3",
   "version": "3.10.8"
  },
  "orig_nbformat": 4
 },
 "nbformat": 4,
 "nbformat_minor": 2
}

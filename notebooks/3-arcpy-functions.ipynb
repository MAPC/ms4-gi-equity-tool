{
 "cells": [
  {
   "cell_type": "code",
   "execution_count": 1,
   "metadata": {},
   "outputs": [],
   "source": [
    "'''\n",
    "MS4: ArcPy functions\n",
    "\n",
    "Series of data preparation scripts that are done in the Esri environment. These prepare \n",
    "data that are used in the rest of the analysis. In future iterations as input data layers are updated,\n",
    "these may need to be rerun (one at a time, likely). Once they are run, the updates need to be reflected\n",
    "in make_dataset.py and then the other scripts can be run as usual.\n",
    "\n",
    "Created May 22, 2023 by RBowers\n",
    "\n",
    "'''\n",
    "\n",
    "import arcpy \n",
    "from arcpy.sa import *\n",
    "from arcpy.ia import *\n",
    "from arcpy.da import *\n",
    "import numpy as np\n",
    "import os"
   ]
  },
  {
   "attachments": {},
   "cell_type": "markdown",
   "metadata": {},
   "source": [
    "## Tesselation\n",
    "This script creates a 400 sqm tesselation (hexagon fishnet) that covers each MAPC municipality. Likely won't need to be run again for this analysis. Used in 01-initializing-project.ipynb to create one of the base analysis geographies"
   ]
  },
  {
   "cell_type": "code",
   "execution_count": 49,
   "metadata": {},
   "outputs": [],
   "source": [
    "#create fishnets over each town - takes a while to do all munis! \n",
    "\n",
    "out_gdb = \"K:\\\\DataServices\\\\Projects\\\\Current_Projects\\\\Environment\\\\MS4\\\\Project\\\\MS4_Fishnets.gdb\"\n",
    "in_polys = \"K:\\\\DataServices\\\\Projects\\\\Current_Projects\\\\Environment\\\\MS4\\\\Project\\\\MS4_Tool_Preprocessing.gdb\\\\MAPCTowns\"\n",
    "#arcpy.env.overwriteOutput = True #allow overwriting the output (turn on if you decide to overwrite)\n",
    "\n",
    "# spatial reference\n",
    "arcpy.env.outputCoordinateSystem = arcpy.Describe(in_polys).spatialReference\n",
    "\n",
    "# Loop thru rows of input polygons\n",
    "with arcpy.da.SearchCursor(in_polys, [['SHAPE@', 'municipal']]) as rows:\n",
    "    for row in rows:\n",
    "        ext = row[0].extent\n",
    "        # Create fishnet\n",
    "        out = os.path.join(out_gdb, ('tess_' + row[1]).format(row[1]))\n",
    "        if arcpy.Exists(out):#if you want to replace existing tesselations, remove the if/else and just do the generate tesselation bit with env.overwriteoutput as True\n",
    "            pass\n",
    "        else:\n",
    "            arcpy.management.GenerateTessellation(out, ext,  Size='400 SquareMeters')\n",
    "\n",
    "\n"
   ]
  },
  {
   "attachments": {},
   "cell_type": "markdown",
   "metadata": {},
   "source": [
    "## Imperviousness and Structures\n",
    "\n",
    "Create a feature class for impervious surfaces MINUS building structure boundaries. As MassGIS structures are updated in the future, this may also need to be updated."
   ]
  },
  {
   "cell_type": "code",
   "execution_count": 8,
   "metadata": {},
   "outputs": [],
   "source": [
    "#erase building structures from the impervious surfaces data\n",
    "in_features = r'K:\\DataServices\\Projects\\Current_Projects\\Environment\\MS4\\Project\\MS4_Model.gdb\\imperv_simplify_all_mapc'\n",
    "erase_features = r'K:\\DataServices\\Projects\\Current_Projects\\Environment\\MS4\\Project\\MS4_Model.gdb\\mapc_structures' #this was clipped ahead of time to the mapc boundary\n",
    "out_feature_class = r\"K:\\DataServices\\Projects\\Current_Projects\\Environment\\MS4\\Project\\MS4_Model.gdb\\imperv_erase_structures\"\n",
    "\n",
    "#set environment to allow for overwriting and to ensure the output is in the correct crs\n",
    "arcpy.env.overwriteOutput = True #allow overwriting the output\n",
    "arcpy.env.outputCoordinateSystem = arcpy.Describe(in_features).spatialReference\n",
    "\n",
    "#perform erase\n",
    "arcpy.analysis.PairwiseErase(in_features, \n",
    "                            erase_features, \n",
    "                            out_feature_class\n",
    "                            )"
   ]
  },
  {
   "cell_type": "code",
   "execution_count": 5,
   "metadata": {},
   "outputs": [],
   "source": [
    "heat_fp = 'K:\\\\DataServices\\\\Projects\\\\Current_Projects\\\\Climate_Change\\\\MVP_MMC_Heat_MVP\\\\00 Task 2 Deliverables\\\\2.1 Attachments\\\\00 Uploaded to Sharepoint\\\\Shapefile_LSTIndex\\\\LSTindex.tif'\n",
    "lclu = \"K:\\\\DataServices\\\\Datasets\\\\Zoning and Land Use\\\\Spatial\\\\lclu_gdb\\\\MA_LCLU2016.gdb\\\\LandCoverLandUse_2016\"\n",
    "soils = \"K:\\\\DataServices\\\\Projects\\\\Current_Projects\\\\Environment\\\\MS4\\\\Project\\\\MS4_Tool_Preprocessing.gdb\\\\SOILS_MUPOLYGON_TOP20_MAPCclip\"\n",
    "\n",
    "output_crs = \"PROJCS[\\\"NAD_1983_StatePlane_Massachusetts_Mainland_FIPS_2001\\\",GEOGCS[\\\"GCS_North_American_1983\\\",DATUM[\\\"D_North_American_1983\\\",SPHEROID[\\\"GRS_1980\\\",6378137.0,298.257222101]],PRIMEM[\\\"Greenwich\\\",0.0],UNIT[\\\"Degree\\\",0.0174532925199433]],PROJECTION[\\\"Lambert_Conformal_Conic\\\"],PARAMETER[\\\"False_Easting\\\",200000.0],PARAMETER[\\\"False_Northing\\\",750000.0],PARAMETER[\\\"Central_Meridian\\\",-71.5],PARAMETER[\\\"Standard_Parallel_1\\\",41.71666666666667],PARAMETER[\\\"Standard_Parallel_2\\\",42.68333333333333],PARAMETER[\\\"Latitude_Of_Origin\\\",41.0],UNIT[\\\"Meter\\\",1.0]]\""
   ]
  },
  {
   "cell_type": "code",
   "execution_count": 12,
   "metadata": {},
   "outputs": [],
   "source": [
    "LSTindex_tif = arcpy.Raster(heat_fp)\n",
    "\n",
    "\n",
    "arcpy.env.extent = LSTindex_tif\n",
    "arcpy.env.snapRaster = LSTindex_tif\n",
    "arcpy.env.cellSize = LSTindex_tif\n",
    "arcpy.env.mask = LSTindex_tif"
   ]
  },
  {
   "cell_type": "code",
   "execution_count": 10,
   "metadata": {},
   "outputs": [],
   "source": [
    "def AutoName(table): # function that automatically names a feature class or raster\n",
    "    # Adapted from MAPC's stormwater toolkit script at https://github.com/MAPC/stormwater-toolkit/blob/master/Burn_Raster_Script.py\n",
    "    checktable = arcpy.Exists(table) # checks to see if the raster already exists\n",
    "    count = 2\n",
    "    newname = table\n",
    "\n",
    "    while checktable == True: # if the raster already exists, adds a suffix to the end and checks again\n",
    "        newname = table + str(count)\n",
    "        count += 1\n",
    "        checktable = arcpy.Exists(newname)\n",
    "\n",
    "    return newname"
   ]
  },
  {
   "cell_type": "code",
   "execution_count": 13,
   "metadata": {},
   "outputs": [],
   "source": [
    "def geotiff_convert(inname,                 # Name of input shapefile\n",
    "                    outfeaturename,         # Desired name of converted raster\n",
    "                    fieldname,              # Field value on which to base raster value\n",
    "                    workspace,              # Workspace in which to place resulting raster\n",
    "                    inputform = 'Polygon'): # set to 'Point' if working with point type shapefile\n",
    "    \n",
    "    # Check for geometry problems\n",
    "    outtable = AutoName('geomtable')\n",
    "    arcpy.CheckGeometry_management(inname, outtable)\n",
    "    \n",
    "    #Repair geometry problems\n",
    "    arcpy.RepairGeometry_management(inname)\n",
    "    \n",
    "    # Convert to raster form\n",
    "    if inputform == 'Polygon':\n",
    "        outname = AutoName(outfeaturename)\n",
    "        arcpy.PolygonToRaster_conversion(inname, fieldname, outname, cell_assignment = 'MAXIMUM_AREA')\n",
    "        \n",
    "    elif inputform == 'Point':\n",
    "        outname = AutoName(outfeaturename)\n",
    "        arcpy.PointToRaster_conversion(inname, fieldname, outname, cell_assignment = 'MOST_FREQUENT')\n",
    "        \n",
    "    else:\n",
    "        print('Incorrect input form')\n",
    "        \n",
    "    # Convert Raster to geoTIFF\n",
    "    arcpy.RasterToOtherFormat_conversion(outname, workspace, 'TIFF')\n",
    "    \n",
    "    # Build pyramids\n",
    "    arcpy.BuildPyramids_management(outname)\n",
    "    \n",
    "    # Calculate statistics\n",
    "    arcpy.CalculateStatistics_management(outname)\n",
    "    \n",
    "    return(outname)"
   ]
  },
  {
   "cell_type": "code",
   "execution_count": null,
   "metadata": {},
   "outputs": [],
   "source": []
  }
 ],
 "metadata": {
  "kernelspec": {
   "display_name": "Python 3",
   "language": "python",
   "name": "python3"
  },
  "language_info": {
   "codemirror_mode": {
    "name": "ipython",
    "version": 3
   },
   "file_extension": ".py",
   "mimetype": "text/x-python",
   "name": "python",
   "nbconvert_exporter": "python",
   "pygments_lexer": "ipython3",
   "version": "3.9.16"
  },
  "orig_nbformat": 4
 },
 "nbformat": 4,
 "nbformat_minor": 2
}

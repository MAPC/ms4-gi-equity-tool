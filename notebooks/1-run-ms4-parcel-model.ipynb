{
 "cells": [
  {
   "cell_type": "code",
   "execution_count": 1,
   "metadata": {},
   "outputs": [],
   "source": [
    "import sys\n",
    "sys.path.append(\"..\")\n",
    "import os\n",
    "os.environ['USE_PYGEOS'] = '0'\n",
    "import pandas as pd\n",
    "import geopandas as gpd\n",
    "from matplotlib import pyplot as plt\n",
    "import seaborn as sns\n",
    "import numpy as np\n",
    "import statsmodels.api as sm\n",
    "from statsmodels.formula.api import ols \n",
    "from rasterstats import zonal_stats\n",
    "import rasterio\n",
    "import contextily as cx\n",
    "from rasterio.plot import show\n",
    "#import osmnx as ox\n",
    "from affine import Affine\n",
    "import rioxarray as rx\n",
    "from multiprocessing import Pool, cpu_count\n",
    "from shapely.ops import unary_union\n",
    "import numpy as np\n",
    "from osgeo import gdal\n",
    "import matplotlib.pyplot as plt\n",
    "%matplotlib inline\n",
    "import warnings\n",
    "warnings.filterwarnings('ignore')\n",
    "from collections import defaultdict\n",
    "from pathlib import Path\n",
    "import fiona\n",
    "\n",
    "#see all columns in tables\n",
    "pd.set_option('display.max_columns', None)\n",
    "\n",
    "\n",
    "%load_ext autoreload\n",
    "%autoreload 2"
   ]
  },
  {
   "cell_type": "code",
   "execution_count": 16,
   "metadata": {},
   "outputs": [
    {
     "name": "stdout",
     "output_type": "stream",
     "text": [
      "Reading in municipal and regional boundaries...\n",
      "Reading in land parcel database data...\n",
      "Reading in additional data layers...\n",
      "Wetlands...\n",
      "Watersheds...\n",
      "Wellhead protection areas...\n",
      "Activity use limitation areas...\n",
      "ParkServe data...\n"
     ]
    }
   ],
   "source": [
    "from src.features.parcel_model import parcel_ms4_model"
   ]
  },
  {
   "cell_type": "code",
   "execution_count": 62,
   "metadata": {},
   "outputs": [
    {
     "name": "stdout",
     "output_type": "stream",
     "text": [
      "Starting on Lexington at 2023-07-03 19:44:52...\n"
     ]
    },
    {
     "ename": "KeyError",
     "evalue": "'muni_id'",
     "output_type": "error",
     "traceback": [
      "\u001b[1;31m---------------------------------------------------------------------------\u001b[0m",
      "\u001b[1;31mKeyError\u001b[0m                                  Traceback (most recent call last)",
      "File \u001b[1;32mc:\\Users\\rbowers\\Anaconda3\\envs\\ms4_env\\lib\\site-packages\\pandas\\core\\indexes\\base.py:3803\u001b[0m, in \u001b[0;36mIndex.get_loc\u001b[1;34m(self, key, method, tolerance)\u001b[0m\n\u001b[0;32m   3802\u001b[0m \u001b[39mtry\u001b[39;00m:\n\u001b[1;32m-> 3803\u001b[0m     \u001b[39mreturn\u001b[39;00m \u001b[39mself\u001b[39;49m\u001b[39m.\u001b[39;49m_engine\u001b[39m.\u001b[39;49mget_loc(casted_key)\n\u001b[0;32m   3804\u001b[0m \u001b[39mexcept\u001b[39;00m \u001b[39mKeyError\u001b[39;00m \u001b[39mas\u001b[39;00m err:\n",
      "File \u001b[1;32mc:\\Users\\rbowers\\Anaconda3\\envs\\ms4_env\\lib\\site-packages\\pandas\\_libs\\index.pyx:138\u001b[0m, in \u001b[0;36mpandas._libs.index.IndexEngine.get_loc\u001b[1;34m()\u001b[0m\n",
      "File \u001b[1;32mc:\\Users\\rbowers\\Anaconda3\\envs\\ms4_env\\lib\\site-packages\\pandas\\_libs\\index.pyx:165\u001b[0m, in \u001b[0;36mpandas._libs.index.IndexEngine.get_loc\u001b[1;34m()\u001b[0m\n",
      "File \u001b[1;32mpandas\\_libs\\hashtable_class_helper.pxi:5745\u001b[0m, in \u001b[0;36mpandas._libs.hashtable.PyObjectHashTable.get_item\u001b[1;34m()\u001b[0m\n",
      "File \u001b[1;32mpandas\\_libs\\hashtable_class_helper.pxi:5753\u001b[0m, in \u001b[0;36mpandas._libs.hashtable.PyObjectHashTable.get_item\u001b[1;34m()\u001b[0m\n",
      "\u001b[1;31mKeyError\u001b[0m: 'muni_id'",
      "\nThe above exception was the direct cause of the following exception:\n",
      "\u001b[1;31mKeyError\u001b[0m                                  Traceback (most recent call last)",
      "Cell \u001b[1;32mIn[62], line 6\u001b[0m\n\u001b[0;32m      3\u001b[0m processed_path \u001b[39m=\u001b[39m \u001b[39m\"\u001b[39m\u001b[39mK:\u001b[39m\u001b[39m\\\\\u001b[39;00m\u001b[39mDataServices\u001b[39m\u001b[39m\\\\\u001b[39;00m\u001b[39mProjects\u001b[39m\u001b[39m\\\\\u001b[39;00m\u001b[39mCurrent_Projects\u001b[39m\u001b[39m\\\\\u001b[39;00m\u001b[39mEnvironment\u001b[39m\u001b[39m\\\\\u001b[39;00m\u001b[39mMS4\u001b[39m\u001b[39m\\\\\u001b[39;00m\u001b[39mData\u001b[39m\u001b[39m\\\\\u001b[39;00m\u001b[39mSpatial\u001b[39m\u001b[39m\\\\\u001b[39;00m\u001b[39mOutput\u001b[39m\u001b[39m\\\\\u001b[39;00m\u001b[39mParcels\u001b[39m\u001b[39m\"\u001b[39m\n\u001b[0;32m      5\u001b[0m \u001b[39mfor\u001b[39;00m town_name \u001b[39min\u001b[39;00m munis[\u001b[39m'\u001b[39m\u001b[39mmunicipal\u001b[39m\u001b[39m'\u001b[39m]\u001b[39m.\u001b[39munique():\n\u001b[1;32m----> 6\u001b[0m     parcel_ms4_model(town_name, processed_path)\n\u001b[0;32m      8\u001b[0m \u001b[39m'''\u001b[39;00m\n\u001b[0;32m      9\u001b[0m \u001b[39m#run suitability model for each town in list\u001b[39;00m\n\u001b[0;32m     10\u001b[0m \u001b[39mfor town_name in munis['municipal'].unique():\u001b[39;00m\n\u001b[1;32m   (...)\u001b[0m\n\u001b[0;32m     14\u001b[0m \u001b[39m        parcel_ms4_model(town_name, processed_path)\u001b[39;00m\n\u001b[0;32m     15\u001b[0m \u001b[39m'''\u001b[39;00m\n",
      "File \u001b[1;32mc:\\Users\\rbowers\\scripting_projects\\ms4-gi-equity-tool\\notebooks\\..\\src\\features\\parcel_model.py:75\u001b[0m, in \u001b[0;36mparcel_ms4_model\u001b[1;34m(town_name, processed_path)\u001b[0m\n\u001b[0;32m     72\u001b[0m muni_shp \u001b[39m=\u001b[39m munis\u001b[39m.\u001b[39mloc[munis[\u001b[39m'\u001b[39m\u001b[39mmunicipal\u001b[39m\u001b[39m'\u001b[39m] \u001b[39m==\u001b[39m town_name]\n\u001b[0;32m     74\u001b[0m \u001b[39m## PARCELS ## \u001b[39;00m\n\u001b[1;32m---> 75\u001b[0m town_parcels_row \u001b[39m=\u001b[39m get_parcels_row(town_name, muni_shp) \u001b[39m#from src.features.ms4_funcs.py\u001b[39;00m\n\u001b[0;32m     77\u001b[0m \u001b[39m## LAND COVER DATA PREP ##\u001b[39;00m\n\u001b[0;32m     78\u001b[0m \n\u001b[0;32m     79\u001b[0m \u001b[39m#first read in lclu with a muni shapefile mask\u001b[39;00m\n\u001b[0;32m     80\u001b[0m lclu_muni \u001b[39m=\u001b[39m get_lclu_muni(muni_shp) \u001b[39m#from src.features.ms4_funcs.py \u001b[39;00m\n",
      "File \u001b[1;32mc:\\Users\\rbowers\\scripting_projects\\ms4-gi-equity-tool\\notebooks\\..\\src\\features\\ms4_funcs.py:90\u001b[0m, in \u001b[0;36mget_parcels_row\u001b[1;34m(town_name, muni_gdf)\u001b[0m\n\u001b[0;32m     87\u001b[0m town_row \u001b[39m=\u001b[39m town_row[[\u001b[39m'\u001b[39m\u001b[39mgeometry\u001b[39m\u001b[39m'\u001b[39m]]\n\u001b[0;32m     89\u001b[0m \u001b[39m#create ID field\u001b[39;00m\n\u001b[1;32m---> 90\u001b[0m muni_id \u001b[39m=\u001b[39m town_parcels\u001b[39m.\u001b[39;49miloc[\u001b[39m2\u001b[39;49m][\u001b[39m'\u001b[39;49m\u001b[39mmuni_id\u001b[39;49m\u001b[39m'\u001b[39;49m]\u001b[39m.\u001b[39mastype(\u001b[39mint\u001b[39m)\n\u001b[0;32m     91\u001b[0m town_row\u001b[39m.\u001b[39minsert(\u001b[39m0\u001b[39m, \u001b[39m'\u001b[39m\u001b[39mparloc_id\u001b[39m\u001b[39m'\u001b[39m, \u001b[39mrange\u001b[39m(\u001b[39m10000\u001b[39m, \u001b[39m10000\u001b[39m \u001b[39m+\u001b[39m \u001b[39mlen\u001b[39m(town_row)))\n\u001b[0;32m     92\u001b[0m town_row[\u001b[39m'\u001b[39m\u001b[39mparloc_id\u001b[39m\u001b[39m'\u001b[39m] \u001b[39m=\u001b[39m muni_id\u001b[39m.\u001b[39mastype(\u001b[39mstr\u001b[39m) \u001b[39m+\u001b[39m \u001b[39m'\u001b[39m\u001b[39m_ROW_\u001b[39m\u001b[39m'\u001b[39m \u001b[39m+\u001b[39m town_row[\u001b[39m'\u001b[39m\u001b[39mparloc_id\u001b[39m\u001b[39m'\u001b[39m]\u001b[39m.\u001b[39mastype(\u001b[39mstr\u001b[39m)\n",
      "File \u001b[1;32mc:\\Users\\rbowers\\Anaconda3\\envs\\ms4_env\\lib\\site-packages\\pandas\\core\\series.py:981\u001b[0m, in \u001b[0;36mSeries.__getitem__\u001b[1;34m(self, key)\u001b[0m\n\u001b[0;32m    978\u001b[0m     \u001b[39mreturn\u001b[39;00m \u001b[39mself\u001b[39m\u001b[39m.\u001b[39m_values[key]\n\u001b[0;32m    980\u001b[0m \u001b[39melif\u001b[39;00m key_is_scalar:\n\u001b[1;32m--> 981\u001b[0m     \u001b[39mreturn\u001b[39;00m \u001b[39mself\u001b[39;49m\u001b[39m.\u001b[39;49m_get_value(key)\n\u001b[0;32m    983\u001b[0m \u001b[39mif\u001b[39;00m is_hashable(key):\n\u001b[0;32m    984\u001b[0m     \u001b[39m# Otherwise index.get_value will raise InvalidIndexError\u001b[39;00m\n\u001b[0;32m    985\u001b[0m     \u001b[39mtry\u001b[39;00m:\n\u001b[0;32m    986\u001b[0m         \u001b[39m# For labels that don't resolve as scalars like tuples and frozensets\u001b[39;00m\n",
      "File \u001b[1;32mc:\\Users\\rbowers\\Anaconda3\\envs\\ms4_env\\lib\\site-packages\\pandas\\core\\series.py:1089\u001b[0m, in \u001b[0;36mSeries._get_value\u001b[1;34m(self, label, takeable)\u001b[0m\n\u001b[0;32m   1086\u001b[0m     \u001b[39mreturn\u001b[39;00m \u001b[39mself\u001b[39m\u001b[39m.\u001b[39m_values[label]\n\u001b[0;32m   1088\u001b[0m \u001b[39m# Similar to Index.get_value, but we do not fall back to positional\u001b[39;00m\n\u001b[1;32m-> 1089\u001b[0m loc \u001b[39m=\u001b[39m \u001b[39mself\u001b[39;49m\u001b[39m.\u001b[39;49mindex\u001b[39m.\u001b[39;49mget_loc(label)\n\u001b[0;32m   1090\u001b[0m \u001b[39mreturn\u001b[39;00m \u001b[39mself\u001b[39m\u001b[39m.\u001b[39mindex\u001b[39m.\u001b[39m_get_values_for_loc(\u001b[39mself\u001b[39m, loc, label)\n",
      "File \u001b[1;32mc:\\Users\\rbowers\\Anaconda3\\envs\\ms4_env\\lib\\site-packages\\pandas\\core\\indexes\\base.py:3805\u001b[0m, in \u001b[0;36mIndex.get_loc\u001b[1;34m(self, key, method, tolerance)\u001b[0m\n\u001b[0;32m   3803\u001b[0m     \u001b[39mreturn\u001b[39;00m \u001b[39mself\u001b[39m\u001b[39m.\u001b[39m_engine\u001b[39m.\u001b[39mget_loc(casted_key)\n\u001b[0;32m   3804\u001b[0m \u001b[39mexcept\u001b[39;00m \u001b[39mKeyError\u001b[39;00m \u001b[39mas\u001b[39;00m err:\n\u001b[1;32m-> 3805\u001b[0m     \u001b[39mraise\u001b[39;00m \u001b[39mKeyError\u001b[39;00m(key) \u001b[39mfrom\u001b[39;00m \u001b[39merr\u001b[39;00m\n\u001b[0;32m   3806\u001b[0m \u001b[39mexcept\u001b[39;00m \u001b[39mTypeError\u001b[39;00m:\n\u001b[0;32m   3807\u001b[0m     \u001b[39m# If we have a listlike key, _check_indexing_error will raise\u001b[39;00m\n\u001b[0;32m   3808\u001b[0m     \u001b[39m#  InvalidIndexError. Otherwise we fall through and re-raise\u001b[39;00m\n\u001b[0;32m   3809\u001b[0m     \u001b[39m#  the TypeError.\u001b[39;00m\n\u001b[0;32m   3810\u001b[0m     \u001b[39mself\u001b[39m\u001b[39m.\u001b[39m_check_indexing_error(key)\n",
      "\u001b[1;31mKeyError\u001b[0m: 'muni_id'"
     ]
    }
   ],
   "source": [
    "from src.data.make_dataset import munis\n",
    "\n",
    "processed_path = \"K:\\\\DataServices\\\\Projects\\\\Current_Projects\\\\Environment\\\\MS4\\\\Data\\\\Spatial\\\\Output\\\\Parcels\"\n",
    "\n",
    "for town_name in munis['municipal'].unique():\n",
    "    parcel_ms4_model(town_name, processed_path)\n",
    "\n",
    "'''\n",
    "#run suitability model for each town in list\n",
    "for town_name in munis['municipal'].unique():\n",
    "    if town_name in os.listdir(processed_path): #currently set to skip any towns for which data has already been produced\n",
    "        pass\n",
    "    else:\n",
    "        parcel_ms4_model(town_name, processed_path)\n",
    "'''"
   ]
  },
  {
   "cell_type": "code",
   "execution_count": 24,
   "metadata": {},
   "outputs": [],
   "source": [
    "# MERGE SHAPEFILES \n",
    "from src.data.make_dataset import munis\n",
    "\n",
    "model_path = \"K:\\\\DataServices\\\\Projects\\\\Current_Projects\\\\Environment\\\\MS4\\\\Data\\\\Spatial\\\\Model\"\n",
    "\n",
    "filelist = []\n",
    "\n",
    "# add all shapefiles - takes about 30 minutes\n",
    "for root, folder, files in os.walk(processed_path):\n",
    "    for file in files:\n",
    "        for muni in munis['municipal'].unique():\n",
    "            if muni in file:\n",
    "                if file.endswith('.shp'):\n",
    "                    fullname = os.path.join(root, file)\n",
    "                    filelist.append(fullname)\n",
    "\n",
    "\n",
    "merged_gdf = gpd.GeoDataFrame(pd.concat([gpd.read_file(i) for i in filelist], \n",
    "                        ignore_index=True), crs=gpd.read_file(filelist[0]).crs)\n",
    "\n",
    "#export\n",
    "merged_gdf.to_file(model_path + '\\\\Merged_MS4_Parcels.shp')\n"
   ]
  },
  {
   "cell_type": "code",
   "execution_count": 2,
   "metadata": {},
   "outputs": [
    {
     "name": "stdout",
     "output_type": "stream",
     "text": [
      "Reading in municipal and regional boundaries...\n",
      "Reading in land parcel database data...\n",
      "Reading in additional data layers...\n",
      "Wetlands...\n",
      "Watersheds...\n",
      "Wellhead protection areas...\n",
      "Activity use limitation areas...\n",
      "ParkServe data...\n"
     ]
    },
    {
     "data": {
      "text/html": [
       "<div>\n",
       "<style scoped>\n",
       "    .dataframe tbody tr th:only-of-type {\n",
       "        vertical-align: middle;\n",
       "    }\n",
       "\n",
       "    .dataframe tbody tr th {\n",
       "        vertical-align: top;\n",
       "    }\n",
       "\n",
       "    .dataframe thead th {\n",
       "        text-align: right;\n",
       "    }\n",
       "</style>\n",
       "<table border=\"1\" class=\"dataframe\">\n",
       "  <thead>\n",
       "    <tr style=\"text-align: right;\">\n",
       "      <th></th>\n",
       "      <th>muni_id</th>\n",
       "      <th>municipal</th>\n",
       "      <th>geometry</th>\n",
       "    </tr>\n",
       "  </thead>\n",
       "  <tbody>\n",
       "    <tr>\n",
       "      <th>0</th>\n",
       "      <td>155</td>\n",
       "      <td>Lexington</td>\n",
       "      <td>POLYGON ((223675.913 912896.955, 223681.822 91...</td>\n",
       "    </tr>\n",
       "    <tr>\n",
       "      <th>1</th>\n",
       "      <td>93</td>\n",
       "      <td>Everett</td>\n",
       "      <td>MULTIPOLYGON (((238796.142 908223.795, 238627....</td>\n",
       "    </tr>\n",
       "    <tr>\n",
       "      <th>2</th>\n",
       "      <td>25</td>\n",
       "      <td>Bellingham</td>\n",
       "      <td>POLYGON ((204842.472 876046.525, 204820.983 87...</td>\n",
       "    </tr>\n",
       "    <tr>\n",
       "      <th>3</th>\n",
       "      <td>187</td>\n",
       "      <td>Millis</td>\n",
       "      <td>POLYGON ((213252.583 877673.165, 213242.623 87...</td>\n",
       "    </tr>\n",
       "    <tr>\n",
       "      <th>4</th>\n",
       "      <td>92</td>\n",
       "      <td>Essex</td>\n",
       "      <td>MULTIPOLYGON (((259231.583 936048.315, 259275....</td>\n",
       "    </tr>\n",
       "  </tbody>\n",
       "</table>\n",
       "</div>"
      ],
      "text/plain": [
       "   muni_id   municipal                                           geometry\n",
       "0      155   Lexington  POLYGON ((223675.913 912896.955, 223681.822 91...\n",
       "1       93     Everett  MULTIPOLYGON (((238796.142 908223.795, 238627....\n",
       "2       25  Bellingham  POLYGON ((204842.472 876046.525, 204820.983 87...\n",
       "3      187      Millis  POLYGON ((213252.583 877673.165, 213242.623 87...\n",
       "4       92       Essex  MULTIPOLYGON (((259231.583 936048.315, 259275...."
      ]
     },
     "execution_count": 2,
     "metadata": {},
     "output_type": "execute_result"
    }
   ],
   "source": [
    "from src.data.make_dataset import munis\n",
    "munis.head()"
   ]
  },
  {
   "cell_type": "code",
   "execution_count": 36,
   "metadata": {},
   "outputs": [
    {
     "name": "stdout",
     "output_type": "stream",
     "text": [
      "Starting on Boston at 2023-07-04 11:27:08...\n",
      "getting row data from Boston\n",
      "<class 'geopandas.geodataframe.GeoDataFrame'>\n",
      "Int64Index: 7783 entries, 0 to 7782\n",
      "Data columns (total 7 columns):\n",
      " #   Column                  Non-Null Count  Dtype   \n",
      "---  ------                  --------------  -----   \n",
      " 0   parloc_id               7783 non-null   int64   \n",
      " 1   FID_Bos_InterBuff_Clip  7783 non-null   int64   \n",
      " 2   FID_Bos_ROWparcels      7783 non-null   int64   \n",
      " 3   ORIG_FID                7783 non-null   int64   \n",
      " 4   Shape_Length            7783 non-null   float64 \n",
      " 5   Shape_Area              7783 non-null   float64 \n",
      " 6   geometry                7783 non-null   geometry\n",
      "dtypes: float64(2), geometry(1), int64(4)\n",
      "memory usage: 486.4 KB\n",
      "None\n",
      "<class 'geopandas.geodataframe.GeoDataFrame'>\n",
      "Int64Index: 7783 entries, 0 to 7782\n",
      "Data columns (total 2 columns):\n",
      " #   Column     Non-Null Count  Dtype   \n",
      "---  ------     --------------  -----   \n",
      " 0   parloc_id  7783 non-null   object  \n",
      " 1   geometry   7783 non-null   geometry\n",
      "dtypes: geometry(1), object(1)\n",
      "memory usage: 182.4+ KB\n",
      "None\n",
      "<class 'geopandas.geodataframe.GeoDataFrame'>\n",
      "RangeIndex: 7783 entries, 0 to 7782\n",
      "Data columns (total 7 columns):\n",
      " #   Column     Non-Null Count  Dtype   \n",
      "---  ------     --------------  -----   \n",
      " 0   parloc_id  7783 non-null   object  \n",
      " 1   type       7783 non-null   object  \n",
      " 2   muni       7783 non-null   object  \n",
      " 3   Owner      7783 non-null   object  \n",
      " 4   Address    7415 non-null   object  \n",
      " 5   acreage    7783 non-null   float64 \n",
      " 6   geometry   7783 non-null   geometry\n",
      "dtypes: float64(1), geometry(1), object(5)\n",
      "memory usage: 425.8+ KB\n",
      "None\n"
     ]
    }
   ],
   "source": [
    "from src.features.parcel_model import parcel_ms4_model\n",
    "\n",
    "#rerun for Boston and then replace Boston parcels with the new ones?\n",
    "processed_path = \"K:\\\\DataServices\\\\Projects\\\\Current_Projects\\\\Environment\\\\MS4\\\\Data\\\\Spatial\\\\Output\\\\Parcels\"\n",
    "boston_sites = parcel_ms4_model('Boston', processed_path)\n",
    "\n",
    "from src.data.make_dataset import munis\n",
    "\n",
    "model_path = \"K:\\\\DataServices\\\\Projects\\\\Current_Projects\\\\Environment\\\\MS4\\\\Data\\\\Spatial\\\\Model\"\n",
    "\n",
    "filelist = []\n",
    "\n",
    "# add all shapefiles - takes about 30 minutes\n",
    "for root, folder, files in os.walk(processed_path):\n",
    "    for file in files:\n",
    "        for muni in munis['municipal'].unique():\n",
    "            if muni in file:\n",
    "                if file.endswith('.shp'):\n",
    "                    fullname = os.path.join(root, file)\n",
    "                    filelist.append(fullname)\n",
    "\n",
    "\n",
    "merged_gdf = gpd.GeoDataFrame(pd.concat([gpd.read_file(i) for i in filelist], \n",
    "                        ignore_index=True), crs=gpd.read_file(filelist[0]).crs)\n",
    "\n",
    "#export\n",
    "merged_gdf.to_file(model_path + '\\\\Merged_MS4_Parcels.shp')\n"
   ]
  },
  {
   "attachments": {},
   "cell_type": "markdown",
   "metadata": {},
   "source": [
    "### Identify muni/munis of interest, create a shapefile for the muni\n",
    "\n",
    "Then create land use and land cover layers of interest based on the municipal boundary mask (speeds up processes)"
   ]
  },
  {
   "attachments": {},
   "cell_type": "markdown",
   "metadata": {},
   "source": [
    "### Pull base geographies for analysis\n",
    "- Get municipal ROW and fishnet (tesselation) layers from geodatabases \n",
    "- Clean up those gdfs to include only the relevant info"
   ]
  },
  {
   "attachments": {},
   "cell_type": "markdown",
   "metadata": {},
   "source": [
    "`town_parcels_row` and `town_tess` are the two base geographies for this analysis."
   ]
  }
 ],
 "metadata": {
  "kernelspec": {
   "display_name": "DS-geospatial",
   "language": "python",
   "name": "python3"
  },
  "language_info": {
   "codemirror_mode": {
    "name": "ipython",
    "version": 3
   },
   "file_extension": ".py",
   "mimetype": "text/x-python",
   "name": "python",
   "nbconvert_exporter": "python",
   "pygments_lexer": "ipython3",
   "version": "3.10.8"
  },
  "orig_nbformat": 4
 },
 "nbformat": 4,
 "nbformat_minor": 2
}
